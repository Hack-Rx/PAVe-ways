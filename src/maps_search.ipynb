{
 "cells": [
  {
   "cell_type": "code",
   "execution_count": 4,
   "metadata": {},
   "outputs": [],
   "source": [
    "import uuid\n",
    "from types import GeneratorType\n",
    "import responses\n",
    "import googlemaps"
   ]
  },
  {
   "cell_type": "code",
   "execution_count": null,
   "metadata": {},
   "outputs": [],
   "source": [
    "def setUp(self):\n",
    "        self.key = \"test-key\"\n",
    "        self.client = googlemaps.Client(self.key)\n",
    "        self.location = (13.0619012,80.2743034)\n",
    "        self.type = \"organic_farming\"\n",
    "        self.language = \"en-IN\"\n",
    "        self.region = \"IN\"\n",
    "        self.radius = 100"
   ]
  },
  {
   "cell_type": "code",
   "execution_count": 8,
   "metadata": {},
   "outputs": [],
   "source": [
    "def test_places_nearby_search(self):\n",
    "    url = \"https://maps.googleapis.com/maps/api/place/nearbysearch/json\"\n",
    "    responses.add(\n",
    "        responses.GET,\n",
    "        url,\n",
    "        body='{\"status\": \"OK\", \"results\": [], \"html_attributions\": []}',\n",
    "        status=200,\n",
    "        content_type=\"application/json\",\n",
    "    )\n",
    "\n",
    "    self.client.places_nearby(\n",
    "        location=self.location,\n",
    "        keyword=\"organic_farming\",\n",
    "        language=self.language,\n",
    "        min_price=1,\n",
    "        max_price=4,\n",
    "        name=\"farm\",\n",
    "        open_now=True,\n",
    "        rank_by=\"distance\",\n",
    "        type=self.type,\n",
    "    )\n",
    "\n",
    "    self.assertEqual(1, len(responses.calls))\n",
    "    self.assertURLEqual(\n",
    "        \"%s?keyword=farm&language=en-IN&location=13.0619012%%2C80.2743034&\"\n",
    "        \"maxprice=4&minprice=1&name=far&opennow=true&rankby=distance&\"\n",
    "        \"type=organic_farming&key=%s\" % (url, self.key),\n",
    "        responses.calls[0].request.url,\n",
    "    )\n",
    "\n",
    "    with self.assertRaises(ValueError):\n",
    "        self.client.places_nearby(radius=self.radius)\n",
    "    with self.assertRaises(ValueError):\n",
    "        self.client.places_nearby(self.location, rank_by=\"distance\")\n",
    "\n",
    "    with self.assertRaises(ValueError):\n",
    "        self.client.places_nearby(\n",
    "            location=self.location,\n",
    "            rank_by=\"distance\",\n",
    "            keyword=\"farm\",\n",
    "            radius=self.radius,\n",
    "        )"
   ]
  }
 ],
 "metadata": {
  "language_info": {
   "codemirror_mode": {
    "name": "ipython",
    "version": 3
   },
   "file_extension": ".py",
   "mimetype": "text/x-python",
   "name": "python",
   "nbconvert_exporter": "python",
   "pygments_lexer": "ipython3",
   "version": "3.7.4-final"
  },
  "orig_nbformat": 2,
  "kernelspec": {
   "name": "python3",
   "display_name": "Python 3"
  }
 },
 "nbformat": 4,
 "nbformat_minor": 2
}