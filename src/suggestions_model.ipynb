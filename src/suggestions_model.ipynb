{
 "cells": [
  {
   "cell_type": "code",
   "execution_count": 9,
   "metadata": {},
   "outputs": [],
   "source": [
    "import pandas as pd\n",
    "import numpy as np\n",
    "from tensorflow.keras.models import Sequential\n",
    "from tensorflow.keras.layers import Dense, Activation, Dropout, Flatten\n",
    "import tensorflow.keras.optimizers as optz\n",
    "from sklearn import preprocessing\n",
    "from sklearn.preprocessing import StandardScaler, Normalizer\n",
    "from pickle import dump"
   ]
  },
  {
   "cell_type": "code",
   "execution_count": 10,
   "metadata": {},
   "outputs": [
    {
     "output_type": "execute_result",
     "data": {
      "text/plain": "array([[9.00000000e-01, 1.80000000e+01, 1.66299210e+02, 3.78023844e+01,\n        0.00000000e+00, 1.00000000e+00, 8.16531503e+02, 1.55000000e+00,\n        1.26562383e+03, 1.51874860e+03, 2.12571430e-02, 1.59428570e-02,\n        0.00000000e+00],\n       [9.00000000e-01, 1.80000000e+01, 1.75719588e+02, 4.41737544e+01,\n        0.00000000e+00, 9.50000000e-01, 9.06445439e+02, 1.30000000e+00,\n        1.17837907e+03, 7.07027443e+02, 0.00000000e+00, 0.00000000e+00,\n        4.00000000e-01],\n       [1.00000000e+00, 1.80000000e+01, 1.62482149e+02, 3.84940609e+01,\n        0.00000000e+00, 9.00000000e-01, 8.31471716e+02, 1.55000000e+00,\n        1.28878116e+03, 1.93317174e+03, 5.31428570e-02, 3.98571430e-02,\n        0.00000000e+00],\n       [9.00000000e-01, 1.80000000e+01, 1.72873111e+02, 4.48610854e+01,\n        0.00000000e+00, 8.50000000e-01, 8.23649527e+02, 1.80000000e+00,\n        1.48256915e+03, 2.37211064e+03, 6.29485710e-02, 4.72114290e-02,\n        0.00000000e+00],\n       [1.00000000e+00, 1.80000000e+01, 1.70088001e+02, 4.40141507e+01,\n        0.00000000e+00, 1.00000000e+00, 1.05633962e+03, 1.30000000e+00,\n        1.37324150e+03, 1.09859320e+03, 0.00000000e+00, 0.00000000e+00,\n        2.00000000e-01]])"
     },
     "metadata": {},
     "execution_count": 10
    }
   ],
   "source": [
    "data = pd.read_csv(\"../datasets/suggestion_dataset_v4.csv\")\n",
    "data = data.to_numpy(dtype=np.float)\n",
    "data[0:5,:]"
   ]
  },
  {
   "cell_type": "code",
   "execution_count": 11,
   "metadata": {},
   "outputs": [],
   "source": [
    "input_features = data[:,0:10]\n",
    "target = data[:,10:]\n",
    "\n",
    "scaler = Normalizer()\n",
    "input_features = scaler.fit_transform(input_features)\n",
    "dump(scaler, open('suggestion_scaler.pkl', 'wb'))"
   ]
  },
  {
   "cell_type": "code",
   "execution_count": 12,
   "metadata": {},
   "outputs": [
    {
     "output_type": "stream",
     "name": "stdout",
     "text": "Model: \"sequential_1\"\n_________________________________________________________________\nLayer (type)                 Output Shape              Param #   \n=================================================================\ndense_5 (Dense)              (None, 100)               1100      \n_________________________________________________________________\ndense_6 (Dense)              (None, 100)               10100     \n_________________________________________________________________\ndropout_3 (Dropout)          (None, 100)               0         \n_________________________________________________________________\ndense_7 (Dense)              (None, 100)               10100     \n_________________________________________________________________\ndropout_4 (Dropout)          (None, 100)               0         \n_________________________________________________________________\ndense_8 (Dense)              (None, 100)               10100     \n_________________________________________________________________\ndropout_5 (Dropout)          (None, 100)               0         \n_________________________________________________________________\ndense_9 (Dense)              (None, 3)                 303       \n=================================================================\nTotal params: 31,703\nTrainable params: 31,703\nNon-trainable params: 0\n_________________________________________________________________\n"
    }
   ],
   "source": [
    "model = Sequential()\n",
    "model.add(Dense(100, activation='relu', input_dim=len(input_features[0])))\n",
    "model.add(Dense(100, activation='relu'))\n",
    "model.add(Dropout(0.2))\n",
    "model.add(Dense(100, activation='relu'))\n",
    "model.add(Dropout(0.2))\n",
    "model.add(Dense(100, activation='relu'))\n",
    "model.add(Dropout(0.2))\n",
    "model.add(Dense(len(target[0])))\n",
    "model.summary()"
   ]
  },
  {
   "cell_type": "code",
   "execution_count": 13,
   "metadata": {},
   "outputs": [
    {
     "output_type": "stream",
     "name": "stdout",
     "text": "Train on 34999 samples, validate on 15000 samples\nEpoch 1/10\n34999/34999 [==============================] - 16s 470us/sample - loss: 0.0439 - accuracy: 0.7566 - val_loss: 0.0141 - val_accuracy: 1.0000\nEpoch 2/10\n34999/34999 [==============================] - 16s 453us/sample - loss: 0.0153 - accuracy: 0.7609 - val_loss: 0.0132 - val_accuracy: 1.0000\nEpoch 3/10\n34999/34999 [==============================] - 15s 428us/sample - loss: 0.0124 - accuracy: 0.7866 - val_loss: 0.0130 - val_accuracy: 1.0000\nEpoch 4/10\n34999/34999 [==============================] - 14s 405us/sample - loss: 0.0117 - accuracy: 0.8015 - val_loss: 0.0129 - val_accuracy: 1.0000\nEpoch 5/10\n34999/34999 [==============================] - 14s 413us/sample - loss: 0.0107 - accuracy: 0.8114 - val_loss: 0.0128 - val_accuracy: 1.0000\nEpoch 6/10\n34999/34999 [==============================] - 15s 420us/sample - loss: 0.0103 - accuracy: 0.8136 - val_loss: 0.0135 - val_accuracy: 1.0000\nEpoch 7/10\n34999/34999 [==============================] - 17s 484us/sample - loss: 0.0099 - accuracy: 0.8202 - val_loss: 0.0128 - val_accuracy: 1.0000\nEpoch 8/10\n34999/34999 [==============================] - 14s 398us/sample - loss: 0.0096 - accuracy: 0.8255 - val_loss: 0.0125 - val_accuracy: 1.0000\nEpoch 9/10\n34999/34999 [==============================] - 14s 405us/sample - loss: 0.0095 - accuracy: 0.8315 - val_loss: 0.0125 - val_accuracy: 1.0000\nEpoch 10/10\n34999/34999 [==============================] - 14s 401us/sample - loss: 0.0091 - accuracy: 0.8359 - val_loss: 0.0123 - val_accuracy: 1.0000\n"
    },
    {
     "output_type": "execute_result",
     "data": {
      "text/plain": "<tensorflow.python.keras.callbacks.History at 0x19a4ff09248>"
     },
     "metadata": {},
     "execution_count": 13
    }
   ],
   "source": [
    "sgd = optz.SGD(lr=0.001, decay=1e-6, momentum=0.9)\n",
    "model.compile(loss=\"mse\", optimizer=sgd,  metrics=['accuracy'])\n",
    "model.fit(input_features, target, epochs=10, batch_size=16, validation_split=0.3)"
   ]
  },
  {
   "cell_type": "code",
   "execution_count": 14,
   "metadata": {},
   "outputs": [
    {
     "output_type": "stream",
     "name": "stdout",
     "text": "Predicted = 0.024386 0.027053 0.009807 -- Expected = 0.021257 0.015943 0.000000)\nPredicted = -0.015484 -0.004164 0.417064 -- Expected = 0.000000 0.000000 0.400000)\nPredicted = 0.039897 0.038057 0.004113 -- Expected = 0.053143 0.039857 0.000000)\nPredicted = 0.050035 0.045536 0.001278 -- Expected = 0.062949 0.047211 0.000000)\nPredicted = -0.023325 -0.011725 0.219284 -- Expected = 0.000000 0.000000 0.200000)\nPredicted = 0.049066 0.043428 0.001138 -- Expected = 0.058933 0.044200 0.000000)\nPredicted = 0.043163 0.039433 0.002989 -- Expected = 0.050514 0.037886 0.000000)\nPredicted = -0.002486 0.005963 0.083462 -- Expected = 0.000000 0.000000 0.100000)\nPredicted = 0.014552 0.018487 0.025299 -- Expected = 0.000000 0.000000 0.000000)\nPredicted = 0.049254 0.043723 0.000927 -- Expected = 0.053040 0.039780 0.000000)\n"
    }
   ],
   "source": [
    "predict = model.predict(input_features)\n",
    "\n",
    "for i in range(10):\n",
    "# \tprint('Predicted = %.4f %.4f %.4f -- Expected = %.4f %.4f %.4f)' % (predict[i,0], predict[i,1], predict[i,2], target[i,0], target[i,1], target[i,2]))\n",
    "    print('Predicted = %f %f %f -- Expected = %f %f %f)' % (predict[i,0], predict[i,1], predict[i,2], target[i,0], target[i,1], target[i,2]))"
   ]
  },
  {
   "cell_type": "code",
   "execution_count": 15,
   "metadata": {},
   "outputs": [],
   "source": [
    "# model.save('suggestion_model_v1.1.h5')"
   ]
  }
 ],
 "metadata": {
  "language_info": {
   "codemirror_mode": {
    "name": "ipython",
    "version": 3
   },
   "file_extension": ".py",
   "mimetype": "text/x-python",
   "name": "python",
   "nbconvert_exporter": "python",
   "pygments_lexer": "ipython3",
   "version": "3.7.4-final"
  },
  "orig_nbformat": 2,
  "kernelspec": {
   "name": "python3",
   "display_name": "Python 3"
  }
 },
 "nbformat": 4,
 "nbformat_minor": 2
}